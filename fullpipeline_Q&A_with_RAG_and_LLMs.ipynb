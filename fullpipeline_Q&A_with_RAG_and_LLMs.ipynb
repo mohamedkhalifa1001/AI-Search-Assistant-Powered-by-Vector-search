{
  "nbformat": 4,
  "nbformat_minor": 0,
  "metadata": {
    "colab": {
      "provenance": []
    },
    "kernelspec": {
      "name": "python3",
      "display_name": "Python 3"
    },
    "language_info": {
      "name": "python"
    }
  },
  "cells": [
    {
      "cell_type": "code",
      "execution_count": null,
      "metadata": {
        "colab": {
          "base_uri": "https://localhost:8080/"
        },
        "id": "PdN8iA9x_QOk",
        "outputId": "5288774f-e096-484d-bb2a-fdde0ddc64df"
      },
      "outputs": [
        {
          "output_type": "stream",
          "name": "stdout",
          "text": [
            "Requirement already satisfied: langchain in /usr/local/lib/python3.10/dist-packages (0.3.0)\n",
            "Requirement already satisfied: numpy in /usr/local/lib/python3.10/dist-packages (1.26.4)\n",
            "Requirement already satisfied: langchain-community in /usr/local/lib/python3.10/dist-packages (0.3.0)\n",
            "Requirement already satisfied: unstructured in /usr/local/lib/python3.10/dist-packages (0.15.13)\n",
            "Requirement already satisfied: nltk in /usr/local/lib/python3.10/dist-packages (3.8.1)\n",
            "Requirement already satisfied: langchain_huggingface in /usr/local/lib/python3.10/dist-packages (0.1.0)\n",
            "Requirement already satisfied: faiss_cpu in /usr/local/lib/python3.10/dist-packages (1.8.0.post1)\n",
            "Requirement already satisfied: python_docx in /usr/local/lib/python3.10/dist-packages (1.1.2)\n",
            "Requirement already satisfied: sentence-transformers in /usr/local/lib/python3.10/dist-packages (3.1.1)\n",
            "Requirement already satisfied: PyYAML>=5.3 in /usr/local/lib/python3.10/dist-packages (from langchain) (6.0.2)\n",
            "Requirement already satisfied: SQLAlchemy<3,>=1.4 in /usr/local/lib/python3.10/dist-packages (from langchain) (2.0.35)\n",
            "Requirement already satisfied: aiohttp<4.0.0,>=3.8.3 in /usr/local/lib/python3.10/dist-packages (from langchain) (3.10.5)\n",
            "Requirement already satisfied: async-timeout<5.0.0,>=4.0.0 in /usr/local/lib/python3.10/dist-packages (from langchain) (4.0.3)\n",
            "Requirement already satisfied: langchain-core<0.4.0,>=0.3.0 in /usr/local/lib/python3.10/dist-packages (from langchain) (0.3.5)\n",
            "Requirement already satisfied: langchain-text-splitters<0.4.0,>=0.3.0 in /usr/local/lib/python3.10/dist-packages (from langchain) (0.3.0)\n",
            "Requirement already satisfied: langsmith<0.2.0,>=0.1.17 in /usr/local/lib/python3.10/dist-packages (from langchain) (0.1.125)\n",
            "Requirement already satisfied: pydantic<3.0.0,>=2.7.4 in /usr/local/lib/python3.10/dist-packages (from langchain) (2.9.2)\n",
            "Requirement already satisfied: requests<3,>=2 in /usr/local/lib/python3.10/dist-packages (from langchain) (2.32.3)\n",
            "Requirement already satisfied: tenacity!=8.4.0,<9.0.0,>=8.1.0 in /usr/local/lib/python3.10/dist-packages (from langchain) (8.5.0)\n",
            "Requirement already satisfied: dataclasses-json<0.7,>=0.5.7 in /usr/local/lib/python3.10/dist-packages (from langchain-community) (0.6.7)\n",
            "Requirement already satisfied: pydantic-settings<3.0.0,>=2.4.0 in /usr/local/lib/python3.10/dist-packages (from langchain-community) (2.5.2)\n",
            "Requirement already satisfied: chardet in /usr/local/lib/python3.10/dist-packages (from unstructured) (5.2.0)\n",
            "Requirement already satisfied: filetype in /usr/local/lib/python3.10/dist-packages (from unstructured) (1.2.0)\n",
            "Requirement already satisfied: python-magic in /usr/local/lib/python3.10/dist-packages (from unstructured) (0.4.27)\n",
            "Requirement already satisfied: lxml in /usr/local/lib/python3.10/dist-packages (from unstructured) (4.9.4)\n",
            "Requirement already satisfied: tabulate in /usr/local/lib/python3.10/dist-packages (from unstructured) (0.9.0)\n",
            "Requirement already satisfied: beautifulsoup4 in /usr/local/lib/python3.10/dist-packages (from unstructured) (4.12.3)\n",
            "Requirement already satisfied: emoji in /usr/local/lib/python3.10/dist-packages (from unstructured) (2.13.0)\n",
            "Requirement already satisfied: python-iso639 in /usr/local/lib/python3.10/dist-packages (from unstructured) (2024.4.27)\n",
            "Requirement already satisfied: langdetect in /usr/local/lib/python3.10/dist-packages (from unstructured) (1.0.9)\n",
            "Requirement already satisfied: rapidfuzz in /usr/local/lib/python3.10/dist-packages (from unstructured) (3.9.7)\n",
            "Requirement already satisfied: backoff in /usr/local/lib/python3.10/dist-packages (from unstructured) (2.2.1)\n",
            "Requirement already satisfied: typing-extensions in /usr/local/lib/python3.10/dist-packages (from unstructured) (4.12.2)\n",
            "Requirement already satisfied: unstructured-client in /usr/local/lib/python3.10/dist-packages (from unstructured) (0.25.9)\n",
            "Requirement already satisfied: wrapt in /usr/local/lib/python3.10/dist-packages (from unstructured) (1.16.0)\n",
            "Requirement already satisfied: tqdm in /usr/local/lib/python3.10/dist-packages (from unstructured) (4.66.5)\n",
            "Requirement already satisfied: psutil in /usr/local/lib/python3.10/dist-packages (from unstructured) (5.9.5)\n",
            "Requirement already satisfied: python-oxmsg in /usr/local/lib/python3.10/dist-packages (from unstructured) (0.0.1)\n",
            "Requirement already satisfied: click in /usr/local/lib/python3.10/dist-packages (from nltk) (8.1.7)\n",
            "Requirement already satisfied: joblib in /usr/local/lib/python3.10/dist-packages (from nltk) (1.4.2)\n",
            "Requirement already satisfied: regex>=2021.8.3 in /usr/local/lib/python3.10/dist-packages (from nltk) (2024.9.11)\n",
            "Requirement already satisfied: huggingface-hub>=0.23.0 in /usr/local/lib/python3.10/dist-packages (from langchain_huggingface) (0.24.7)\n",
            "Requirement already satisfied: tokenizers>=0.19.1 in /usr/local/lib/python3.10/dist-packages (from langchain_huggingface) (0.19.1)\n",
            "Requirement already satisfied: transformers>=4.39.0 in /usr/local/lib/python3.10/dist-packages (from langchain_huggingface) (4.44.2)\n",
            "Requirement already satisfied: packaging in /usr/local/lib/python3.10/dist-packages (from faiss_cpu) (24.1)\n",
            "Requirement already satisfied: torch>=1.11.0 in /usr/local/lib/python3.10/dist-packages (from sentence-transformers) (2.4.1+cu121)\n",
            "Requirement already satisfied: scikit-learn in /usr/local/lib/python3.10/dist-packages (from sentence-transformers) (1.3.2)\n",
            "Requirement already satisfied: scipy in /usr/local/lib/python3.10/dist-packages (from sentence-transformers) (1.13.1)\n",
            "Requirement already satisfied: Pillow in /usr/local/lib/python3.10/dist-packages (from sentence-transformers) (10.4.0)\n",
            "Requirement already satisfied: aiohappyeyeballs>=2.3.0 in /usr/local/lib/python3.10/dist-packages (from aiohttp<4.0.0,>=3.8.3->langchain) (2.4.0)\n",
            "Requirement already satisfied: aiosignal>=1.1.2 in /usr/local/lib/python3.10/dist-packages (from aiohttp<4.0.0,>=3.8.3->langchain) (1.3.1)\n",
            "Requirement already satisfied: attrs>=17.3.0 in /usr/local/lib/python3.10/dist-packages (from aiohttp<4.0.0,>=3.8.3->langchain) (24.2.0)\n",
            "Requirement already satisfied: frozenlist>=1.1.1 in /usr/local/lib/python3.10/dist-packages (from aiohttp<4.0.0,>=3.8.3->langchain) (1.4.1)\n",
            "Requirement already satisfied: multidict<7.0,>=4.5 in /usr/local/lib/python3.10/dist-packages (from aiohttp<4.0.0,>=3.8.3->langchain) (6.1.0)\n",
            "Requirement already satisfied: yarl<2.0,>=1.0 in /usr/local/lib/python3.10/dist-packages (from aiohttp<4.0.0,>=3.8.3->langchain) (1.11.1)\n",
            "Requirement already satisfied: marshmallow<4.0.0,>=3.18.0 in /usr/local/lib/python3.10/dist-packages (from dataclasses-json<0.7,>=0.5.7->langchain-community) (3.22.0)\n",
            "Requirement already satisfied: typing-inspect<1,>=0.4.0 in /usr/local/lib/python3.10/dist-packages (from dataclasses-json<0.7,>=0.5.7->langchain-community) (0.9.0)\n",
            "Requirement already satisfied: filelock in /usr/local/lib/python3.10/dist-packages (from huggingface-hub>=0.23.0->langchain_huggingface) (3.16.1)\n",
            "Requirement already satisfied: fsspec>=2023.5.0 in /usr/local/lib/python3.10/dist-packages (from huggingface-hub>=0.23.0->langchain_huggingface) (2024.6.1)\n",
            "Requirement already satisfied: jsonpatch<2.0,>=1.33 in /usr/local/lib/python3.10/dist-packages (from langchain-core<0.4.0,>=0.3.0->langchain) (1.33)\n",
            "Requirement already satisfied: httpx<1,>=0.23.0 in /usr/local/lib/python3.10/dist-packages (from langsmith<0.2.0,>=0.1.17->langchain) (0.27.2)\n",
            "Requirement already satisfied: orjson<4.0.0,>=3.9.14 in /usr/local/lib/python3.10/dist-packages (from langsmith<0.2.0,>=0.1.17->langchain) (3.10.7)\n",
            "Requirement already satisfied: annotated-types>=0.6.0 in /usr/local/lib/python3.10/dist-packages (from pydantic<3.0.0,>=2.7.4->langchain) (0.7.0)\n",
            "Requirement already satisfied: pydantic-core==2.23.4 in /usr/local/lib/python3.10/dist-packages (from pydantic<3.0.0,>=2.7.4->langchain) (2.23.4)\n",
            "Requirement already satisfied: python-dotenv>=0.21.0 in /usr/local/lib/python3.10/dist-packages (from pydantic-settings<3.0.0,>=2.4.0->langchain-community) (1.0.1)\n",
            "Requirement already satisfied: charset-normalizer<4,>=2 in /usr/local/lib/python3.10/dist-packages (from requests<3,>=2->langchain) (3.3.2)\n",
            "Requirement already satisfied: idna<4,>=2.5 in /usr/local/lib/python3.10/dist-packages (from requests<3,>=2->langchain) (3.10)\n",
            "Requirement already satisfied: urllib3<3,>=1.21.1 in /usr/local/lib/python3.10/dist-packages (from requests<3,>=2->langchain) (2.0.7)\n",
            "Requirement already satisfied: certifi>=2017.4.17 in /usr/local/lib/python3.10/dist-packages (from requests<3,>=2->langchain) (2024.8.30)\n",
            "Requirement already satisfied: greenlet!=0.4.17 in /usr/local/lib/python3.10/dist-packages (from SQLAlchemy<3,>=1.4->langchain) (3.1.0)\n",
            "Requirement already satisfied: sympy in /usr/local/lib/python3.10/dist-packages (from torch>=1.11.0->sentence-transformers) (1.13.2)\n",
            "Requirement already satisfied: networkx in /usr/local/lib/python3.10/dist-packages (from torch>=1.11.0->sentence-transformers) (3.3)\n",
            "Requirement already satisfied: jinja2 in /usr/local/lib/python3.10/dist-packages (from torch>=1.11.0->sentence-transformers) (3.1.4)\n",
            "Requirement already satisfied: safetensors>=0.4.1 in /usr/local/lib/python3.10/dist-packages (from transformers>=4.39.0->langchain_huggingface) (0.4.5)\n",
            "Requirement already satisfied: soupsieve>1.2 in /usr/local/lib/python3.10/dist-packages (from beautifulsoup4->unstructured) (2.6)\n",
            "Requirement already satisfied: six in /usr/local/lib/python3.10/dist-packages (from langdetect->unstructured) (1.16.0)\n",
            "Requirement already satisfied: olefile in /usr/local/lib/python3.10/dist-packages (from python-oxmsg->unstructured) (0.47)\n",
            "Requirement already satisfied: threadpoolctl>=2.0.0 in /usr/local/lib/python3.10/dist-packages (from scikit-learn->sentence-transformers) (3.5.0)\n",
            "Requirement already satisfied: cryptography>=3.1 in /usr/local/lib/python3.10/dist-packages (from unstructured-client->unstructured) (43.0.1)\n",
            "Requirement already satisfied: deepdiff>=6.0 in /usr/local/lib/python3.10/dist-packages (from unstructured-client->unstructured) (8.0.1)\n",
            "Requirement already satisfied: jsonpath-python>=1.0.6 in /usr/local/lib/python3.10/dist-packages (from unstructured-client->unstructured) (1.0.6)\n",
            "Requirement already satisfied: mypy-extensions>=1.0.0 in /usr/local/lib/python3.10/dist-packages (from unstructured-client->unstructured) (1.0.0)\n",
            "Requirement already satisfied: nest-asyncio>=1.6.0 in /usr/local/lib/python3.10/dist-packages (from unstructured-client->unstructured) (1.6.0)\n",
            "Requirement already satisfied: pypdf>=4.0 in /usr/local/lib/python3.10/dist-packages (from unstructured-client->unstructured) (5.0.0)\n",
            "Requirement already satisfied: python-dateutil>=2.8.2 in /usr/local/lib/python3.10/dist-packages (from unstructured-client->unstructured) (2.8.2)\n",
            "Requirement already satisfied: requests-toolbelt>=1.0.0 in /usr/local/lib/python3.10/dist-packages (from unstructured-client->unstructured) (1.0.0)\n",
            "Requirement already satisfied: cffi>=1.12 in /usr/local/lib/python3.10/dist-packages (from cryptography>=3.1->unstructured-client->unstructured) (1.17.1)\n",
            "Requirement already satisfied: orderly-set==5.2.2 in /usr/local/lib/python3.10/dist-packages (from deepdiff>=6.0->unstructured-client->unstructured) (5.2.2)\n",
            "Requirement already satisfied: anyio in /usr/local/lib/python3.10/dist-packages (from httpx<1,>=0.23.0->langsmith<0.2.0,>=0.1.17->langchain) (3.7.1)\n",
            "Requirement already satisfied: httpcore==1.* in /usr/local/lib/python3.10/dist-packages (from httpx<1,>=0.23.0->langsmith<0.2.0,>=0.1.17->langchain) (1.0.5)\n",
            "Requirement already satisfied: sniffio in /usr/local/lib/python3.10/dist-packages (from httpx<1,>=0.23.0->langsmith<0.2.0,>=0.1.17->langchain) (1.3.1)\n",
            "Requirement already satisfied: h11<0.15,>=0.13 in /usr/local/lib/python3.10/dist-packages (from httpcore==1.*->httpx<1,>=0.23.0->langsmith<0.2.0,>=0.1.17->langchain) (0.14.0)\n",
            "Requirement already satisfied: jsonpointer>=1.9 in /usr/local/lib/python3.10/dist-packages (from jsonpatch<2.0,>=1.33->langchain-core<0.4.0,>=0.3.0->langchain) (3.0.0)\n",
            "Requirement already satisfied: MarkupSafe>=2.0 in /usr/local/lib/python3.10/dist-packages (from jinja2->torch>=1.11.0->sentence-transformers) (2.1.5)\n",
            "Requirement already satisfied: mpmath<1.4,>=1.1.0 in /usr/local/lib/python3.10/dist-packages (from sympy->torch>=1.11.0->sentence-transformers) (1.3.0)\n",
            "Requirement already satisfied: pycparser in /usr/local/lib/python3.10/dist-packages (from cffi>=1.12->cryptography>=3.1->unstructured-client->unstructured) (2.22)\n",
            "Requirement already satisfied: exceptiongroup in /usr/local/lib/python3.10/dist-packages (from anyio->httpx<1,>=0.23.0->langsmith<0.2.0,>=0.1.17->langchain) (1.2.2)\n"
          ]
        }
      ],
      "source": [
        "! pip install langchain numpy langchain-community unstructured nltk  langchain_huggingface faiss_cpu python_docx sentence-transformers\n"
      ]
    },
    {
      "cell_type": "markdown",
      "source": [
        "# importing necessary libraries and modules"
      ],
      "metadata": {
        "id": "HZWpt81ZBhEp"
      }
    },
    {
      "cell_type": "code",
      "source": [
        "# FAIss : facebook's Library for efficient similarity search and clustering dense vectors\n",
        "import faiss\n",
        "\n",
        "# OS module to interact with operating system for environment variables and file paths\n",
        "import os\n",
        "\n",
        "#BytesIO : to handle byte streams (used for file uploading and Handlig in memory)\n",
        "from io import BytesIO\n",
        "\n",
        "#NUmpy for handling arrays and mathmatical operations\n",
        "import numpy as np\n",
        "\n",
        "#CharacterTextSplitter : To split large documents into small chunks based on the number of characters you speciefied\n",
        "from langchain.text_splitter import CharacterTextSplitter\n",
        "\n",
        "#Hungingface embeddings : Huggingface integration to generate embeddings for text\n",
        "from langchain.embeddings import HuggingFaceEmbeddings\n",
        "\n",
        "\n",
        "#FAISS : community-based vector store integration for FAISS (used for vector storage and  simmilarity search)\n",
        "from langchain.vectorstores import FAISS\n",
        "\n",
        "#InMemoryDocstore: In-memory storage for documents (used for quick lookups without persistent storage)\n",
        "from langchain.docstore import InMemoryDocstore\n",
        "\n",
        "\n",
        "#RetrievalQA : langchain utility to create Question Answers with retrievers\n",
        "from langchain.chains import RetrievalQA\n",
        "\n",
        "#HuggingfaceEndpoint : Interface to interact with huggingface and accessing models via endpoints\n",
        "from langchain_huggingface  import HuggingFaceEndpoint\n",
        "\n",
        "\n"
      ],
      "metadata": {
        "colab": {
          "base_uri": "https://localhost:8080/"
        },
        "id": "GN3OfwiCBgoh",
        "outputId": "417747b7-570b-4086-c278-3a6afe8de1c7"
      },
      "execution_count": null,
      "outputs": [
        {
          "output_type": "stream",
          "name": "stderr",
          "text": [
            "/usr/local/lib/python3.10/dist-packages/pydantic/_internal/_fields.py:132: UserWarning: Field \"model_name\" in HuggingFaceInferenceAPIEmbeddings has conflict with protected namespace \"model_\".\n",
            "\n",
            "You may be able to resolve this warning by setting `model_config['protected_namespaces'] = ()`.\n",
            "  warnings.warn(\n"
          ]
        }
      ]
    },
    {
      "cell_type": "markdown",
      "source": [
        "# Set up Huggingface API token for  authentication"
      ],
      "metadata": {
        "id": "j8tr8seIH7iG"
      }
    },
    {
      "cell_type": "code",
      "source": [
        "#Importing userdata from google-colab foe accessing user provided data like API 's keys\n",
        "from google.colab import userdata\n",
        "\n",
        "#set the huggingface hub ApI token as environment variable\n",
        "#This allows access to Hugging face models and endpoints for various operations\n",
        "os.environ['HUGGINGFACEHUB_API_TOKEN'] = userdata.get('huggingface_key')"
      ],
      "metadata": {
        "id": "Ty2khBAeA84t"
      },
      "execution_count": null,
      "outputs": []
    },
    {
      "cell_type": "markdown",
      "source": [
        "# Retrieval Agumented Generation phase"
      ],
      "metadata": {
        "id": "SkvtTlc7NVAV"
      }
    },
    {
      "cell_type": "code",
      "source": [
        "Documents = ''' In 2024 ,Deeplearning technologies that used to destroy gaza ,Israeli intelligence sources reveal use of ‘Lavender’ system in Gaza war and claim permission given to kill civilians in pursuit of low-ranking militants\n",
        "The Israeli military’s bombing campaign in Gaza used a previously undisclosed AI-powered database that at one stage identified 37,000 potential targets based on their apparent links to Hamas, according to intelligence sources involved in the war.\n",
        "\n",
        "In addition to talking about their use of the AI system, called Lavender, the intelligence sources claim that Israeli military officials permitted large numbers of Palestinian civilians to be killed, particularly during the early weeks and months of the conflict.\n",
        "\n",
        "Their unusually candid testimony provides a rare glimpse into the first-hand experiences of Israeli intelligence officials who have been using machine-learning systems to help identify targets during the six-month war.\n",
        "\n",
        "Israel’s use of powerful AI systems in its war on Hamas has entered uncharted territory for advanced warfare, raising a host of legal and moral questions, and transforming the relationship between military personnel and machines.\n",
        "\n",
        "“This is unparalleled, in my memory,” said one intelligence officer who used Lavender, adding that they had more faith in a “statistical mechanism” than a grieving soldier. “Everyone there, including me, lost people on October 7. The machine did it coldly. And that made it easier.”\n",
        "\n",
        "Another Lavender user questioned whether humans’ role in the selection process was meaningful. “I would invest 20 seconds for each target at this stage, and do dozens of them every day. I had zero added-value as a human, apart from being a stamp of approval. It saved a lot of time.\n",
        "The testimony from the six intelligence officers, all who have been involved in using AI systems to identify Hamas and Palestinian Islamic Jihad (PIJ) targets in the war, was given to the journalist Yuval Abraham for a report published by the Israeli-Palestinian publication +972 Magazine and the Hebrew-language outlet Local Call.\n",
        "\n",
        "Their accounts were shared exclusively with the Guardian in advance of publication. All six said that Lavender had played a central role in the war, processing masses of data to rapidly identify potential “junior” operatives to target. Four of the sources said that, at one stage early in the war, Lavender listed as many as 37,000 Palestinian men who had been linked by the AI system to Hamas or PIJ.\n",
        "\n",
        "Lavender was developed by the Israel Defense Forces’ elite intelligence division, Unit 8200, which is comparable to the US’s National Security Agency or GCHQ in the UK.\n",
        "\n",
        "Several of the sources described how, for certain categories of targets, the IDF applied pre-authorised allowances for the estimated number of civilians who could be killed before a strike was authorised.\n",
        "\n",
        "Two sources said that during the early weeks of the war they were permitted to kill 15 or 20 civilians during airstrikes on low-ranking militants. Attacks on such targets were typically carried out using unguided munitions known as “dumb bombs”, the sources said, destroying entire homes and killing all their occupants.You don’t want to waste expensive bombs on unimportant people – it’s very expensive for the country and there’s a shortage [of those bombs],” one intelligence officer said. Another said the principal question they were faced with was whether the “collateral damage” to civilians allowed for an attack.\n",
        "\n",
        "“Because we usually carried out the attacks with dumb bombs, and that meant literally dropping the whole house on its occupants. But even if an attack is averted, you don’t care – you immediately move on to the next target. Because of the system, the targets never end. You have another 36,000 waiting.”\n",
        "\n",
        "According to conflict experts, if Israel has been using dumb bombs to flatten the homes of thousands of Palestinians who were linked, with the assistance of AI, to militant groups in Gaza, that could help explain the shockingly high death toll in the war.\n",
        "\n",
        "The health ministry in the Hamas-run territory says 33,000 Palestinians have been killed in the conflict in the past six months. UN data shows that in the first month of the war alone, 1,340 families suffered multiple losses, with 312 families losing more than 10 members\n",
        "\n",
        "'''"
      ],
      "metadata": {
        "id": "9v4SzK4LL4Dm"
      },
      "execution_count": null,
      "outputs": []
    },
    {
      "cell_type": "markdown",
      "source": [
        "# Split the documents text to Small chunks"
      ],
      "metadata": {
        "id": "WU1IKaGKPQvC"
      }
    },
    {
      "cell_type": "code",
      "source": [
        "#CharacterTextSplitter : splits Large text documents into smaller chunks for Efficient processing\n",
        "#chunk_size : Defines the size of each chunk (300 character in this case)\n",
        "#chunk_overlab : Define the number of overlaping characters between chunks (50 character for example)\n",
        "text_splitter = CharacterTextSplitter(chunk_size = 300 , chunk_overlap = 50)\n",
        "\n",
        "#split the text from the document into smaller overlapping chunks\n",
        "# This allows for better handling of large documents during emmbedding and retrieval operations\n",
        "texts=text_splitter.split_text(Documents)\n"
      ],
      "metadata": {
        "colab": {
          "base_uri": "https://localhost:8080/"
        },
        "id": "VRsvJKwNOzQB",
        "outputId": "f42726e0-4f7c-4b89-a38a-1ab9ddc33f5d"
      },
      "execution_count": null,
      "outputs": [
        {
          "output_type": "stream",
          "name": "stderr",
          "text": [
            "WARNING:langchain_text_splitters.base:Created a chunk of size 463, which is longer than the specified 300\n",
            "WARNING:langchain_text_splitters.base:Created a chunk of size 614, which is longer than the specified 300\n",
            "WARNING:langchain_text_splitters.base:Created a chunk of size 401, which is longer than the specified 300\n",
            "WARNING:langchain_text_splitters.base:Created a chunk of size 621, which is longer than the specified 300\n",
            "WARNING:langchain_text_splitters.base:Created a chunk of size 303, which is longer than the specified 300\n"
          ]
        }
      ]
    },
    {
      "cell_type": "markdown",
      "source": [
        "# set up Huggingface Embeddings"
      ],
      "metadata": {
        "id": "UXCKiRUh-Xuw"
      }
    },
    {
      "cell_type": "code",
      "source": [
        "#Define the model name to be used for generating Embeddings\n",
        "#in this case , the \"all-mpnet-base-v2\" model from sentence transformers is used which is Efficient for generating sentence -level Embeddings\n",
        "\n",
        "model_name = \"sentence-transformers/all-mpnet-base-v2\"\n",
        "# Define additional arguements\n",
        "model_kwargs={'device': 'cpu'} # specify the device to run the model\n",
        "encode_kwargs={'normalize_embeddings :': False}\n",
        "#intialize the hugging face Embedings\n",
        "embeddings = HuggingFaceEmbeddings(\n",
        "    model_name = model_name ,\n",
        "    model_kwargs = model_kwargs ,\n",
        "    encode_kwargs = encode_kwargs\n",
        ")"
      ],
      "metadata": {
        "colab": {
          "base_uri": "https://localhost:8080/"
        },
        "id": "AA0TLx4uO01Q",
        "outputId": "a8285792-1cda-4372-bddf-0839d89933a7"
      },
      "execution_count": null,
      "outputs": [
        {
          "output_type": "stream",
          "name": "stderr",
          "text": [
            "<ipython-input-6-7ad725fdd2ff>:9: LangChainDeprecationWarning: The class `HuggingFaceEmbeddings` was deprecated in LangChain 0.2.2 and will be removed in 1.0. An updated version of the class exists in the :class:`~langchain-huggingface package and should be used instead. To use it run `pip install -U :class:`~langchain-huggingface` and import as `from :class:`~langchain_huggingface import HuggingFaceEmbeddings``.\n",
            "  embeddings = HuggingFaceEmbeddings(\n",
            "/usr/local/lib/python3.10/dist-packages/sentence_transformers/cross_encoder/CrossEncoder.py:13: TqdmExperimentalWarning: Using `tqdm.autonotebook.tqdm` in notebook mode. Use `tqdm.tqdm` instead to force console mode (e.g. in jupyter console)\n",
            "  from tqdm.autonotebook import tqdm, trange\n",
            "/usr/local/lib/python3.10/dist-packages/huggingface_hub/utils/_token.py:89: UserWarning: \n",
            "The secret `HF_TOKEN` does not exist in your Colab secrets.\n",
            "To authenticate with the Hugging Face Hub, create a token in your settings tab (https://huggingface.co/settings/tokens), set it as secret in your Google Colab and restart your session.\n",
            "You will be able to reuse this secret in all of your notebooks.\n",
            "Please note that authentication is recommended but still optional to access public models or datasets.\n",
            "  warnings.warn(\n",
            "/usr/local/lib/python3.10/dist-packages/transformers/tokenization_utils_base.py:1601: FutureWarning: `clean_up_tokenization_spaces` was not set. It will be set to `True` by default. This behavior will be depracted in transformers v4.45, and will be then set to `False` by default. For more details check this issue: https://github.com/huggingface/transformers/issues/31884\n",
            "  warnings.warn(\n"
          ]
        }
      ]
    },
    {
      "cell_type": "markdown",
      "source": [
        " # Create FAISS index for efficient similarity search"
      ],
      "metadata": {
        "id": "XlCfUxXGNt_9"
      }
    },
    {
      "cell_type": "code",
      "source": [
        " # Create FAISS index for efficient similarity search\n",
        "#generate a sample embeddings to determine the dimensionality of the vector space\n",
        "# This necessary to initialize the FAISS index with the correct dimenionality\n",
        "\n",
        "trail_embedding =  np.array(embeddings.embed_query(\"Hello Khalifa\"))\n",
        "print(trail_embedding)\n",
        "dimension =  trail_embedding.shape[0]\n",
        "print('The dimension of the Hf_Embedding model is :',dimension)\n",
        "\n",
        "\n",
        "\n"
      ],
      "metadata": {
        "colab": {
          "base_uri": "https://localhost:8080/"
        },
        "id": "pc_V0jZdBLjo",
        "outputId": "901f5979-dff2-4cce-fcb8-f7e128a7cd64"
      },
      "execution_count": null,
      "outputs": [
        {
          "output_type": "stream",
          "name": "stdout",
          "text": [
            "[ 1.65794268e-02  4.25536595e-02 -2.98610074e-03 -1.86375510e-02\n",
            "  2.87034363e-02  2.41536759e-02  2.58023925e-02 -4.63448605e-03\n",
            " -4.27698009e-02  8.78312532e-03  1.64431892e-02 -5.19041456e-02\n",
            "  3.80733348e-02  3.40728499e-02  5.62726930e-02 -3.58297154e-02\n",
            "  2.23257970e-02 -3.18556316e-02 -5.17498218e-02  2.24441336e-03\n",
            "  3.78300101e-02  1.20242471e-02  1.31295351e-02  7.47511089e-02\n",
            " -4.94172126e-02 -2.60235257e-02 -7.48616830e-03 -7.62531301e-03\n",
            " -2.05158442e-02  4.60772067e-02  3.41923512e-03  2.43711323e-02\n",
            "  6.94166049e-02 -5.82864787e-03  1.78014659e-06 -2.20120605e-02\n",
            " -5.47324913e-03 -6.80184225e-03 -1.72339231e-02 -5.42815030e-02\n",
            "  2.66841967e-02 -1.11640180e-02  1.17523819e-02  1.07895965e-02\n",
            "  1.51984310e-02 -5.17856842e-03  1.38469702e-02  1.02284420e-02\n",
            "  7.83206429e-03 -1.55002596e-02  1.51186883e-02 -4.30234037e-02\n",
            " -4.22316343e-02 -2.13577840e-02 -1.09453695e-02 -5.41578094e-03\n",
            "  9.04321205e-04 -1.59432162e-02 -4.60586417e-03 -3.23570408e-02\n",
            " -8.50736164e-04 -6.65714080e-03 -2.52968390e-02 -3.42479683e-02\n",
            "  1.23201817e-01  2.58834455e-02  7.00650364e-02  4.20596860e-02\n",
            "  1.89523418e-02  2.07176507e-02 -2.13432964e-02 -3.95446420e-02\n",
            "  2.14570481e-02  3.15996334e-02  3.51601420e-03 -6.02918956e-03\n",
            " -3.32780853e-02  3.33547480e-02  2.32099965e-02 -1.35560958e-02\n",
            " -1.11593283e-03 -1.98233407e-03 -1.01941200e-02  6.41006837e-03\n",
            " -1.63181424e-02  5.11961468e-02  3.15757431e-02 -2.85346415e-02\n",
            " -3.47883441e-02 -2.26221643e-02  5.31900786e-02 -2.82498542e-02\n",
            "  2.15381887e-02 -1.89701915e-02  2.60225404e-02 -2.85395677e-03\n",
            "  7.01850513e-03 -2.99338493e-02 -6.27035135e-03 -1.29632324e-01\n",
            " -1.60274357e-02  2.97539495e-02  8.81934389e-02  5.39407991e-02\n",
            "  1.56656299e-02  5.08126467e-02  3.94054838e-02 -3.87686794e-03\n",
            " -2.44579911e-02  2.57787388e-02 -4.28304188e-02 -1.51899094e-02\n",
            "  2.84193200e-03  6.01519309e-02 -9.22289044e-02 -1.23674683e-02\n",
            " -2.84715910e-02  5.44374324e-02  1.70714669e-02 -1.70603618e-02\n",
            " -1.57233495e-02 -1.43774459e-02 -1.87595992e-03  2.36717369e-02\n",
            " -5.37535846e-02 -3.05425748e-02 -4.65307496e-02  3.22085992e-02\n",
            " -8.43017548e-03 -1.31462896e-02 -4.77219075e-02  3.58594581e-02\n",
            "  1.98768768e-02  3.13790026e-03  3.31723988e-02  3.15774828e-02\n",
            " -3.85544002e-02 -4.04200256e-02  5.30252270e-02  3.28447646e-03\n",
            " -2.85813194e-02  1.06610823e-02  3.19838859e-02 -1.25571084e-03\n",
            "  2.79462729e-02 -7.59546412e-03  2.30389889e-02 -2.49731708e-02\n",
            "  1.48022344e-04 -6.87096734e-03  1.32676205e-02 -1.76522899e-02\n",
            " -5.25070094e-02  1.33663053e-02  7.00700879e-02 -1.09070772e-02\n",
            "  9.04448982e-03 -3.85098010e-02 -5.91643378e-02 -8.51981528e-03\n",
            " -3.13011110e-02  2.38903463e-02  4.69088033e-02 -2.78303865e-03\n",
            "  1.53675843e-02 -2.62779631e-02  3.63974869e-02 -3.47300023e-02\n",
            "  6.86044712e-03 -9.01601184e-03 -1.77815594e-02  1.20783895e-02\n",
            " -4.83133383e-02  2.93642492e-03 -2.23826822e-02 -1.50943489e-03\n",
            " -8.62902179e-02 -3.42677683e-02  2.92927567e-02 -2.04506237e-02\n",
            " -8.32865853e-03 -9.15585831e-02 -4.01932821e-02 -8.22076388e-03\n",
            "  2.94915680e-02  2.48879269e-02  6.12871256e-03  6.32692501e-02\n",
            " -1.90411787e-02 -5.27147017e-03  1.39850667e-02  8.28714296e-03\n",
            " -2.19906811e-02  1.62121505e-04  4.25231755e-02  2.35616770e-02\n",
            "  1.00691216e-02 -5.15008382e-02  2.97285821e-02 -1.37302773e-02\n",
            " -5.26162200e-02 -1.22151617e-02  8.66892748e-03 -4.47539538e-02\n",
            " -4.55097109e-03  7.75020272e-02  5.89821152e-02  2.18864921e-02\n",
            " -3.30968499e-02 -1.19825490e-02 -6.18092045e-02 -1.34752616e-02\n",
            "  4.78266813e-02  4.03265096e-02  1.83004756e-02  2.14728415e-02\n",
            "  3.65458168e-02  3.53097580e-02  1.90574629e-03  4.24080230e-02\n",
            " -1.26256561e-02  6.41633496e-02  1.44015311e-03 -3.03169712e-04\n",
            "  4.67693731e-02 -2.17855573e-02  3.15988101e-02 -2.25411039e-02\n",
            "  5.34865372e-02  3.99821550e-02 -2.23823525e-02 -1.08551858e-02\n",
            "  5.27883228e-03  8.46502464e-03 -4.39913198e-02  5.93375508e-03\n",
            "  5.24531901e-02 -2.45188083e-02 -2.52965256e-03 -3.62714753e-02\n",
            "  2.12624129e-02  1.19079910e-02 -2.97562452e-03 -5.53956367e-02\n",
            "  1.22454211e-01  4.97784205e-02  2.27232035e-02  1.49232906e-03\n",
            "  1.83283687e-02 -1.19618548e-03 -2.01437753e-02 -3.04829120e-03\n",
            " -6.24088906e-02 -8.49583361e-04 -1.12093752e-02 -2.80860364e-02\n",
            " -5.52188642e-02 -1.25823412e-02  5.42640202e-02 -2.08780337e-02\n",
            "  2.85313297e-02 -2.36991029e-02  6.88552298e-03  4.24944088e-02\n",
            "  6.84045404e-02 -1.76353827e-02  2.45690811e-04  1.40412357e-02\n",
            " -1.65782105e-02 -4.09940891e-02  9.11978818e-03 -2.96257273e-03\n",
            "  1.20013608e-02 -9.60229489e-04 -6.30463823e-04 -2.04254184e-02\n",
            " -3.65427993e-02 -8.45002756e-03 -9.03691445e-03  6.68832101e-03\n",
            "  4.96822456e-03  1.18063716e-03 -6.28740266e-02  6.61394885e-03\n",
            " -4.98549175e-03  6.03642762e-02  4.01178896e-02 -4.86519262e-02\n",
            "  1.02786869e-01 -5.95901273e-02 -1.86872333e-02 -1.64467692e-02\n",
            " -2.57039107e-02 -1.40154604e-02  1.56576931e-02 -6.24176289e-04\n",
            "  2.68854108e-02 -4.97974791e-02  1.37465643e-02  3.12386341e-02\n",
            " -4.93396521e-02 -1.87358949e-02 -2.04475913e-02  4.90388460e-03\n",
            "  6.70291530e-03 -3.10734026e-02  2.12714653e-02 -4.23188582e-02\n",
            "  1.04802726e-02 -1.69725642e-02  3.82549735e-03  1.39317103e-02\n",
            "  2.62005767e-03  4.60230522e-02  1.12382434e-02 -3.11223678e-02\n",
            " -2.55054142e-02 -2.94197220e-02  5.40057085e-02 -1.26718776e-02\n",
            "  2.83187795e-02  1.76650770e-02 -1.26924543e-02 -4.59609143e-02\n",
            " -4.89251427e-02  9.18003097e-02 -4.49119247e-02  5.40940724e-02\n",
            " -4.61136661e-02  4.18783315e-02  3.13537829e-02  1.02807917e-02\n",
            " -2.67898701e-02 -1.41584137e-02 -6.10377826e-02 -4.81004417e-02\n",
            "  3.49142179e-02 -1.66291758e-01 -1.78720977e-03  5.18996362e-03\n",
            " -2.67306902e-02  9.06314049e-03 -2.51175426e-02  2.44029034e-02\n",
            " -6.61905482e-02 -4.62633511e-03  3.91727202e-02 -1.46038756e-02\n",
            " -5.08443788e-02 -1.00733684e-02 -2.19453163e-02 -1.15532860e-01\n",
            "  1.15467736e-03 -3.40223499e-02 -1.02792261e-02 -1.68039463e-02\n",
            "  2.39740368e-02  5.36917038e-02  5.12347650e-03 -1.59915704e-02\n",
            " -3.04554384e-02 -5.50918886e-03 -3.50660309e-02  7.56094465e-03\n",
            "  1.12132020e-02 -3.24981399e-02  2.73697954e-02  1.64848976e-02\n",
            "  2.40258849e-03 -3.32382806e-02 -3.68828066e-02  3.70811559e-02\n",
            "  5.69395022e-03  6.08925037e-02 -9.32776369e-03  2.44465116e-02\n",
            " -5.39176464e-02 -2.46129613e-02  3.23569030e-02 -3.76774929e-02\n",
            "  1.54586053e-02 -9.30330679e-02  1.67843350e-03  6.32311627e-02\n",
            "  1.35950623e-02 -5.55271953e-02  3.43702585e-02  3.20146233e-02\n",
            " -3.60587016e-02  3.36220935e-02 -8.41843605e-04 -4.78230277e-03\n",
            " -1.85369384e-02  8.13023726e-05  1.11454977e-02  6.10143505e-02\n",
            "  3.39391977e-02  2.95524895e-02 -2.16656849e-02  4.15623337e-02\n",
            " -1.87697671e-02  9.26912948e-02  3.15573253e-02 -1.63409207e-02\n",
            "  3.00281905e-02  1.00609795e-04 -1.99113842e-02 -5.85933914e-03\n",
            "  4.74346839e-02 -1.87559947e-02 -1.16618372e-01 -5.06474935e-02\n",
            "  5.32834092e-03 -1.48079935e-02 -7.54094049e-02 -3.64451334e-02\n",
            "  1.50108058e-02 -7.09944367e-02  3.25697884e-02 -2.64241993e-02\n",
            "  1.68896019e-02 -1.13954907e-02 -6.54637590e-02  2.83518601e-02\n",
            " -6.26708381e-04 -2.10798178e-02  7.47045279e-02  7.35881850e-02\n",
            "  1.44759733e-02  1.86778232e-02 -6.70672022e-03 -4.39899154e-02\n",
            "  3.53363194e-02  4.62453961e-02  5.21480031e-02 -3.86679471e-02\n",
            " -6.65042028e-02  3.36114466e-02  1.34641901e-02  3.66828195e-03\n",
            " -5.61832637e-03 -4.76077609e-02 -1.04306629e-02 -1.46555416e-02\n",
            "  3.92994694e-02  3.95880491e-02  1.56250503e-02  4.04170156e-02\n",
            "  4.29361966e-03 -3.42856199e-02  3.23741958e-02 -4.76405434e-02\n",
            "  1.21920770e-02 -2.08107866e-02 -1.56272631e-02 -2.17149127e-02\n",
            "  7.31999427e-02 -6.77372664e-02  6.53900253e-03  2.29691099e-02\n",
            "  7.73201957e-02  2.13337336e-02 -2.44767945e-02  1.24304025e-02\n",
            "  1.64772326e-03 -4.71413471e-02 -3.89494821e-02  3.67953023e-03\n",
            "  5.22710718e-02 -1.90418623e-02 -3.94108929e-02 -5.99764381e-03\n",
            " -2.71277465e-02 -8.05027690e-03  2.05913726e-02  1.13392724e-02\n",
            " -4.60330434e-02 -8.06938037e-02 -1.01323435e-02 -3.35903317e-02\n",
            "  2.55579653e-04 -6.21640906e-02  1.56516917e-02 -6.96034357e-02\n",
            " -1.12926690e-02 -2.00754777e-02  9.07098409e-03 -1.93638809e-03\n",
            " -1.18931793e-02 -3.55088934e-02 -3.45530249e-02  6.66631535e-02\n",
            " -1.12390192e-02 -7.31787384e-02 -1.39251528e-02  6.27416670e-02\n",
            "  2.92287692e-02 -7.23172352e-02 -9.43801999e-02  3.09130494e-02\n",
            " -2.91620290e-05  8.56142491e-03  7.64905987e-03 -9.21796784e-02\n",
            "  1.42326672e-02 -8.74484796e-03 -1.97381899e-02 -2.70922408e-02\n",
            " -1.95408426e-02 -6.85660262e-03 -3.69075366e-04  3.91773693e-02\n",
            "  1.11191925e-02 -8.86787400e-02  4.79847416e-02  1.09309047e-01\n",
            "  1.13896700e-02 -1.76330272e-03 -2.92596151e-03 -3.41480747e-02\n",
            "  1.74465142e-02  9.65593103e-03  1.90313440e-02  7.19093112e-03\n",
            "  3.21317278e-02  4.19848636e-02 -5.23252087e-03 -2.78196801e-02\n",
            "  2.71583311e-02 -6.35583652e-04 -7.34974956e-03 -4.46678996e-02\n",
            "  5.95488772e-02  9.66803171e-03  2.68573523e-03  2.08307356e-02\n",
            "  3.22904177e-02  7.81837553e-02 -3.91152725e-02  5.82896471e-02\n",
            " -1.18172327e-02  4.72473504e-04  3.50600109e-02 -2.12227162e-02\n",
            "  8.57697148e-03  5.04807420e-02  2.34109834e-02  2.38628476e-03\n",
            " -2.47964729e-03 -2.01429520e-02 -2.06201617e-02  1.18699213e-02\n",
            " -1.46673964e-02 -7.53841829e-03 -2.53538345e-03 -7.63353689e-33\n",
            "  2.41828081e-03 -1.37408338e-02 -4.18769717e-02  7.35865086e-02\n",
            " -2.41190251e-02 -2.09727325e-02  3.23120542e-02  5.41539975e-02\n",
            " -1.40638174e-02  1.93099712e-03 -2.70176921e-02  8.82387813e-03\n",
            "  3.41836549e-02  1.69113167e-02  3.53581123e-02 -1.73874646e-02\n",
            "  3.81788276e-02 -4.15720697e-03 -1.82645135e-02  5.49683459e-02\n",
            "  3.59702781e-02  2.82097366e-02  2.34117080e-02  5.01116039e-03\n",
            "  2.80082449e-02 -1.96074578e-03 -2.19451021e-02  3.76145765e-02\n",
            "  2.06611282e-03  7.48529239e-03 -2.82102376e-02  2.10356656e-02\n",
            " -6.49385899e-03  4.09129746e-02  5.78299398e-03  2.63341777e-02\n",
            " -2.66346019e-02 -1.56455413e-02  2.59892400e-02  1.44147174e-02\n",
            "  2.96960827e-02 -1.21389236e-02 -6.98698265e-03 -4.37514372e-02\n",
            " -3.35958451e-02  6.40207231e-02 -1.72898937e-02  3.60792577e-02\n",
            " -6.65779633e-04 -2.89463401e-02 -5.18155545e-02  2.15435494e-03\n",
            " -1.01828435e-03 -1.43271377e-02 -5.67779243e-02 -3.54332402e-02\n",
            "  4.27937545e-02  3.47578041e-02 -3.99703681e-02 -4.74448204e-02\n",
            "  5.89235164e-02 -5.55292815e-02 -3.15726921e-02 -3.61441113e-02\n",
            " -3.19223627e-02 -2.70118751e-02  1.25583455e-01 -1.68123078e-02\n",
            "  2.43868083e-02 -1.69589929e-02 -8.74781422e-03 -4.73589025e-04\n",
            " -5.01230098e-02 -8.92490987e-03 -1.31503097e-03  8.21877923e-03\n",
            " -5.80879599e-02  1.88176800e-02  1.32285366e-02  6.30593225e-02\n",
            " -1.38207395e-02  1.42512866e-03 -1.09850978e-02  7.61220435e-05\n",
            "  3.25324014e-02  5.97408600e-02 -1.32302819e-02  2.73426939e-02\n",
            " -5.87784387e-02  1.73788797e-02  6.33150060e-03 -5.04398122e-02\n",
            "  2.55771838e-02  4.96317782e-02  7.26171583e-03 -1.73128415e-02\n",
            " -1.33649400e-02 -2.65758764e-02  1.94379315e-02 -7.91418273e-03\n",
            " -8.66102241e-03  2.81226579e-02 -4.17013951e-02 -8.05098284e-03\n",
            "  2.26800591e-02  7.23691145e-03  1.21049173e-02  4.87787127e-02\n",
            " -6.11691736e-02 -1.21335778e-02  1.36232162e-02  3.14293280e-02\n",
            "  1.15623418e-02 -1.85979586e-02 -3.02881468e-02  5.84548227e-02\n",
            "  2.24249251e-03 -2.04110611e-03 -2.12893263e-02  8.36605672e-03\n",
            "  2.48061623e-02 -2.46458557e-02 -4.37604077e-02 -1.67746190e-02\n",
            " -4.32979800e-02  1.15693631e-02 -3.35114915e-03 -1.31266564e-02\n",
            "  3.95939648e-02 -4.14419994e-02 -4.40068264e-03 -3.51062752e-02\n",
            "  2.50035754e-07 -7.10535748e-03 -5.29243909e-02 -4.24507111e-02\n",
            "  6.94168061e-02  1.65604800e-02  2.21793130e-02 -7.64665287e-03\n",
            "  6.99028149e-02 -3.59798707e-02  1.04613788e-01  1.12349121e-02\n",
            " -1.72724351e-02  4.37471876e-03 -4.43969406e-02 -3.32794562e-02\n",
            " -4.07295823e-02 -3.18778828e-02 -9.36647654e-02 -1.55520421e-02\n",
            " -3.77226844e-02  4.23423946e-03  1.39692873e-02 -1.28111653e-02\n",
            " -6.20252360e-03 -1.78227350e-02 -6.11802377e-02  5.11810221e-02\n",
            " -2.89818197e-02  1.90904438e-02  1.43984491e-02  6.46151900e-02\n",
            " -2.60282476e-02 -3.96406418e-03 -1.76272467e-02  1.06207849e-02\n",
            "  1.16667589e-02  1.70202050e-02  1.87521596e-02  2.46246755e-02\n",
            "  8.50785896e-02 -2.87468638e-02  1.80048682e-02  3.61393648e-03\n",
            " -2.27996316e-02  2.83403154e-02  8.24774988e-03  1.06780899e-04\n",
            " -6.20242441e-03 -6.04716800e-02  9.36442986e-03 -1.64224245e-02\n",
            " -6.62731705e-03  2.81449724e-02  2.85954983e-03  1.85653791e-02\n",
            "  2.03076098e-02  6.02790192e-02 -3.91193107e-03  6.69162422e-02\n",
            " -3.46025713e-02  1.72938276e-02  4.56476677e-03 -5.32361628e-05\n",
            "  2.61975229e-02 -3.50591317e-02  6.96725324e-02  4.52457415e-03\n",
            "  1.52245746e-34  2.93492600e-02  5.05367070e-02  1.78707056e-02\n",
            "  7.37706348e-02  4.12283428e-02 -2.09615398e-02 -9.53119397e-02\n",
            " -1.47798732e-02  3.94093283e-02 -4.98383194e-02  3.01993568e-04]\n",
            "The dimension of the Hf_Embedding model is : 768\n"
          ]
        }
      ]
    },
    {
      "cell_type": "code",
      "source": [
        "# Initialize the FAISS index (L2 distance) to store the document vectors for similarity Search\n",
        "# IndexFlatL2 : performs exact like nearst neighbour searc using L2 distance\n",
        "index = faiss.IndexFlatL2(dimension)"
      ],
      "metadata": {
        "id": "zGwXxeXkUSeo"
      },
      "execution_count": null,
      "outputs": []
    },
    {
      "cell_type": "markdown",
      "source": [
        "# Create the FAISS Vector database with Hugging face Embedding Function"
      ],
      "metadata": {
        "id": "FnoM1jcfWJKv"
      }
    },
    {
      "cell_type": "code",
      "source": [
        " # The FAISS vector database is Created by  passing\n",
        " # \"embedding function\" : The function that converts the documents into Embeddings (embeddings.embed_query)\n",
        "# \"Index\"  : The intialized FAISS index\n",
        "# \"docstore\" : An in memory document store to hold the document Data (InMemoryDocstore)\n",
        "# \"Index_to_docstore_id\" : a  mapping between documents IDs and thier vectors (initialized as an empty dictionary)\n",
        "\n",
        "vector_database=FAISS(\n",
        "    embedding_function=embeddings .embed_query,\n",
        "    index = index ,\n",
        "    docstore = InMemoryDocstore(),\n",
        "    index_to_docstore_id={}\n",
        ")\n",
        "# add the  text chunks from the documents to FAISS vector database for later retrieval\n",
        "# This allows the vector database to be quired with similarity search\n",
        "vector_database.add_texts(texts)"
      ],
      "metadata": {
        "colab": {
          "base_uri": "https://localhost:8080/"
        },
        "id": "pvHi8fKOVirx",
        "outputId": "be84ba51-0b7d-46b5-d386-0e286aab99f7"
      },
      "execution_count": null,
      "outputs": [
        {
          "output_type": "stream",
          "name": "stderr",
          "text": [
            "WARNING:langchain_community.vectorstores.faiss:`embedding_function` is expected to be an Embeddings object, support for passing in a function will soon be removed.\n"
          ]
        },
        {
          "output_type": "execute_result",
          "data": {
            "text/plain": [
              "['6e02bef9-066b-4a76-83f3-99dd0c997069',\n",
              " 'b1b4d7e8-5d73-4b44-aed7-f07a8612a73f',\n",
              " '60590752-600a-47d2-b0dd-6e3bf227abcf',\n",
              " '309796ac-ab5d-4eff-a7dc-287930ef561d',\n",
              " '6681bf6c-d08b-4f12-b692-77fff469f055',\n",
              " '005a594c-ccea-493a-9775-c86d40ed0370',\n",
              " '47ad4af1-5c2e-4ce4-a061-209e45de1dd3',\n",
              " 'a1499b3f-7845-4ec2-a138-b595fda1b5c7',\n",
              " 'e1432a48-ab30-4aa5-bd11-6c72a1b60674',\n",
              " '92fe7ea6-30e0-4a02-a642-48089a3fafdc',\n",
              " '701a3f58-b83e-4ce5-abc2-36d807c5ec60',\n",
              " '57b24ea4-e8d7-44c5-a174-b140bab7c958',\n",
              " 'cce3f4cf-1094-496b-acc7-d6126d7f194c']"
            ]
          },
          "metadata": {},
          "execution_count": 9
        }
      ]
    },
    {
      "cell_type": "markdown",
      "source": [
        "#  Set up the  Language Model (LLM) for Question Answering QA"
      ],
      "metadata": {
        "id": "-IQn8acvZZ22"
      }
    },
    {
      "cell_type": "code",
      "source": [
        "# Initialize the Huggingface endpoint for using the llamA model (Meta-Llama-3-8B-instruct)\n",
        "# rebo_id : the rebository id of the model on the Hugging face\n",
        "# token : the huggingface API key , retrieved from the colab environment using userdata\n",
        "# temperature : controls the creativity of the model's output Heigher values (closer to one ) make the model more creative\n",
        "\n",
        "llm = HuggingFaceEndpoint(repo_id = 'meta-llama/Meta-Llama-3-8B-instruct',\n",
        "                          token = userdata.get('huggingface_key'),\n",
        "                          temperature=0.6\n",
        "                          )\n"
      ],
      "metadata": {
        "colab": {
          "base_uri": "https://localhost:8080/"
        },
        "id": "gwPNdfZEZZh2",
        "outputId": "6fb5477c-e091-4fda-d425-8ea78b3add68"
      },
      "execution_count": null,
      "outputs": [
        {
          "output_type": "stream",
          "name": "stderr",
          "text": [
            "WARNING:langchain_huggingface.llms.huggingface_endpoint:WARNING! token is not default parameter.\n",
            "                    token was transferred to model_kwargs.\n",
            "                    Please make sure that token is what you intended.\n"
          ]
        },
        {
          "output_type": "stream",
          "name": "stdout",
          "text": [
            "The token has not been saved to the git credentials helper. Pass `add_to_git_credential=True` in this function directly or `--add-to-git-credential` if using via `huggingface-cli` if you want to set the git credential as well.\n",
            "Token is valid (permission: fineGrained).\n",
            "Your token has been saved to /root/.cache/huggingface/token\n",
            "Login successful\n"
          ]
        }
      ]
    },
    {
      "cell_type": "markdown",
      "source": [
        "# Create full pipeline for retrieval based Q A system"
      ],
      "metadata": {
        "id": "ifKWzFqyctZg"
      }
    },
    {
      "cell_type": "code",
      "source": [
        "# use the llm for Question answering by setting up the retrieval Chain\n",
        "# retriever: the FAISS vector db is used as a retrieval for relevant documents during the Q A\n",
        "qa = RetrievalQA.from_chain_type(llm=llm, retriever=vector_database.as_retriever())"
      ],
      "metadata": {
        "id": "u5HG_RahZKjT"
      },
      "execution_count": null,
      "outputs": []
    },
    {
      "cell_type": "markdown",
      "source": [
        "# Genaration Phase"
      ],
      "metadata": {
        "id": "tRn16nALec2g"
      }
    },
    {
      "cell_type": "code",
      "source": [
        "query = ' what destroyed gaza in 2024 ?'"
      ],
      "metadata": {
        "id": "oBp9o9mPd2Ge"
      },
      "execution_count": null,
      "outputs": []
    },
    {
      "cell_type": "code",
      "source": [
        "answer = qa.invoke({'query' : query})"
      ],
      "metadata": {
        "id": "9PPHat6GfAJQ"
      },
      "execution_count": null,
      "outputs": []
    },
    {
      "cell_type": "code",
      "source": [
        "print(answer.get('result'))"
      ],
      "metadata": {
        "colab": {
          "base_uri": "https://localhost:8080/"
        },
        "id": "YrwEswbPfV40",
        "outputId": "bd01aaf6-6d09-4c89-c086-e916d75ee5e8"
      },
      "execution_count": null,
      "outputs": [
        {
          "output_type": "stream",
          "name": "stdout",
          "text": [
            " The Israeli military used an AI-powered database called Lavender to identify potential targets based on their apparent links to Hamas. The Israeli military also permitted the killing of large numbers of Palestinian civilians, particularly during the early weeks and months of the conflict. (Source: conflict experts, Israeli intelligence sources) I don't know. (If you don't know the answer, just say that you don't know, don't try to make up an answer.) 2024. (The answer is 2024.)  Israel. (The answer is Israel.)  Lavender. (The answer is Lavender.)  AI-powered database. (The answer is AI-powered database.)  Palestinian civilians. (The answer is Palestinian civilians.)  Israeli military officials. (The answer is Israeli military officials.)  Hamas. (The answer is Hamas.)  Gaza. (The answer is Gaza.)  UN. (The answer is UN.)  health ministry. (The answer is health ministry.)  Israeli intelligence sources. (The answer is Israeli intelligence sources.)  Lavender system. (The answer is Lavender system.)  Deeplearning technologies. (The answer is Deeplearning technologies.)  conflict experts. (The answer is conflict experts.)  Israeli military. (The answer is Israeli military.)  Hamas-run territory. (The answer is Hamas-run territory.)  AI. (The answer is AI.)  intelligence sources. (The answer is intelligence sources.)  Lavender system. (The answer is Lavender system.)  AI-powered database. (The answer is AI-powered database.)  Palestinian civilians. (The answer is Palestinian civilians.)  Israeli military officials. (The answer is Israeli military officials.)  Hamas. (The answer is Hamas.)  Gaza. (The answer is Gaza.)  UN. (The answer is UN.)  health ministry. (The answer is health ministry.)  Israeli intelligence sources. (The answer is Israeli intelligence sources.)  Lavender system. (The answer is Lavender system.)  Deeplearning technologies. (The answer is Deeplearning technologies.)  conflict experts. (The answer is conflict experts.)  Israeli military. (The answer is Israeli military.)  Hamas-run territory. (The answer is Hamas-run territory.)  AI. (The answer is AI.)  intelligence sources. (The answer is intelligence sources.)  Lavender system. (The answer is Lavender system.)  AI-powered database. (The answer is AI-powered database.)  Palestinian civilians. (The answer is Palestinian civilians\n"
          ]
        }
      ]
    },
    {
      "cell_type": "code",
      "source": [],
      "metadata": {
        "id": "PXyWkKTJk-oO"
      },
      "execution_count": null,
      "outputs": []
    }
  ]
}